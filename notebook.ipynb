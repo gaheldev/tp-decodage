{
 "cells": [
  {
   "cell_type": "code",
   "execution_count": 1,
   "id": "61f37b59-7c69-4b42-8bbb-6dfd63c08aa6",
   "metadata": {},
   "outputs": [
    {
     "name": "stdout",
     "output_type": "stream",
     "text": [
      "Hello World\n"
     ]
    }
   ],
   "source": [
    "# Shift + Enter to run the current cell\n",
    "print('Hello World')"
   ]
  },
  {
   "cell_type": "markdown",
   "id": "15fd6bb4-8a21-4aef-815b-0a124fb1dd17",
   "metadata": {},
   "source": [
    "# This is an example Marakdown cell\n",
    "This is nice to write down instructions and format text with title, **bold** and _italic_\n",
    "\n",
    "You can change the cell type in the top bar menu"
   ]
  },
  {
   "cell_type": "markdown",
   "id": "f2305e44-3116-46bb-8bbf-52d4e38fed8e",
   "metadata": {},
   "source": [
    "# Part 0 : import libraries"
   ]
  },
  {
   "cell_type": "code",
   "execution_count": 2,
   "id": "ca9bbf9f-fda4-4c84-9fc0-c132da7ec15f",
   "metadata": {},
   "outputs": [],
   "source": [
    "# Import packages\n",
    "\n",
    "import numpy as np # library providing efficient array manipulation\n",
    "import sklearn # machine learning tools\n",
    "import matplotlib.pyplot as plt # matlab-like plot library"
   ]
  },
  {
   "cell_type": "code",
   "execution_count": 1,
   "id": "15d61b21-c80d-495c-8a74-3225532881fe",
   "metadata": {},
   "outputs": [],
   "source": [
    "from sklearn.model_selection import train_test_split"
   ]
  },
  {
   "cell_type": "code",
   "execution_count": 4,
   "id": "8ad46d74-7f8a-4eff-bcd5-42131259cf11",
   "metadata": {},
   "outputs": [],
   "source": [
    "from sklearn.metrics import confusion_matrix, ConfusionMatrixDisplay"
   ]
  },
  {
   "cell_type": "markdown",
   "id": "7492eaf6-be91-4adb-b785-fd55283364a2",
   "metadata": {},
   "source": [
    "# Part 1 : Dicrete decoding\n",
    "\n",
    "In this part we will be interested in decoding finger mouvement during tapping from ECOG data and in order to do so we will focus on several main points of data processing such as \n",
    "- Pre-processing - where we will see artefact removal for example\n",
    "- Feature extraction - by extracting time-frequency features on every electrodes using short term fourier transfrom\n",
    "- Feature reduction using PCA\n",
    "\n",
    "After this first part we will focus on classification paradigms with\n",
    "- Cross validation in order to ensure the robustness of our testing procedure\n",
    "- Classification using an LDA classifier with or without a validation set.\n",
    "\n",
    "Finally we will evaluate the model accuracy and learn to use different metrics mainly on confusion matrices. "
   ]
  },
  {
   "cell_type": "markdown",
   "id": "c66b5752-0a93-4109-bdb1-de0b7df34d53",
   "metadata": {},
   "source": [
    "## 1.1 Data pre-processing\n",
    "\n",
    "### Artefact removal "
   ]
  },
  {
   "cell_type": "code",
   "execution_count": null,
   "id": "a9c2916c-40f5-45d0-a1f0-524ea6f5a5b8",
   "metadata": {},
   "outputs": [],
   "source": []
  },
  {
   "cell_type": "markdown",
   "id": "f80e1c93-9874-4514-96b8-cfd5ca655d92",
   "metadata": {},
   "source": [
    "### Feature extraction"
   ]
  },
  {
   "cell_type": "code",
   "execution_count": null,
   "id": "80eadeb6-6687-4251-8b3d-478daafea9f7",
   "metadata": {},
   "outputs": [],
   "source": []
  },
  {
   "cell_type": "markdown",
   "id": "202dd960-f3fb-47fc-8a8e-e58e269c1ed1",
   "metadata": {},
   "source": [
    "### Feature selection and dimensionality reduction"
   ]
  },
  {
   "cell_type": "code",
   "execution_count": null,
   "id": "c8680d5b-e2f3-42f5-8bb0-944f985cc538",
   "metadata": {},
   "outputs": [],
   "source": []
  },
  {
   "cell_type": "markdown",
   "id": "8e773b9f-c58b-429e-92e0-169971218af8",
   "metadata": {},
   "source": [
    "## 1.2 Classification\n",
    "\n",
    "### Train-test and cross-validation "
   ]
  },
  {
   "cell_type": "code",
   "execution_count": null,
   "id": "d60b817e-dc3e-40f0-af50-fff57a5787f7",
   "metadata": {},
   "outputs": [],
   "source": []
  },
  {
   "cell_type": "markdown",
   "id": "4b719569-3ad5-450f-84b3-045c644cc633",
   "metadata": {},
   "source": [
    "### Get the predicted labels"
   ]
  },
  {
   "cell_type": "code",
   "execution_count": null,
   "id": "c09d0fe5-fa52-47fe-abb0-3cf52b9087b3",
   "metadata": {},
   "outputs": [],
   "source": []
  },
  {
   "cell_type": "markdown",
   "id": "df22f1c2-3d58-418b-a695-1e4d0e2de5fc",
   "metadata": {},
   "source": [
    "### Using the validation set"
   ]
  },
  {
   "cell_type": "code",
   "execution_count": null,
   "id": "4445d325-c699-433b-a58b-393be614b9b6",
   "metadata": {},
   "outputs": [],
   "source": []
  },
  {
   "cell_type": "code",
   "execution_count": null,
   "id": "d07dad51-2b5a-4708-95a9-68f43a6689c0",
   "metadata": {},
   "outputs": [],
   "source": []
  },
  {
   "cell_type": "markdown",
   "id": "4170815a-5e8b-4ecd-b6c2-5516405db8e6",
   "metadata": {},
   "source": [
    "### Classification"
   ]
  },
  {
   "cell_type": "code",
   "execution_count": null,
   "id": "8903798f-07e0-4ca3-82fa-5daa5df78ad0",
   "metadata": {},
   "outputs": [],
   "source": []
  },
  {
   "cell_type": "markdown",
   "id": "87b9293c-2c4c-4e8d-b0bc-1c564d608c0e",
   "metadata": {},
   "source": [
    "### Using the validation set"
   ]
  },
  {
   "cell_type": "code",
   "execution_count": null,
   "id": "a163127f-1165-4cae-83aa-6d86df0db23a",
   "metadata": {},
   "outputs": [],
   "source": []
  },
  {
   "cell_type": "markdown",
   "id": "ea6741cb-13bd-4361-97cd-02282c78d7be",
   "metadata": {},
   "source": [
    "## 1.3 Metrics and confusion matrix\n",
    "\n",
    "### The confusion matrix"
   ]
  },
  {
   "cell_type": "code",
   "execution_count": null,
   "id": "10aad01b-2f7b-4f98-8f86-7aba3c0ad4d5",
   "metadata": {},
   "outputs": [],
   "source": []
  },
  {
   "cell_type": "markdown",
   "id": "cf6f48c0-0097-4313-8f3f-39fd92f6fd08",
   "metadata": {},
   "source": [
    "### The accuracy"
   ]
  },
  {
   "cell_type": "code",
   "execution_count": null,
   "id": "c6111f3b-8530-4a9b-84a3-7400a2324f76",
   "metadata": {},
   "outputs": [],
   "source": []
  },
  {
   "cell_type": "markdown",
   "id": "930009e2-9383-4b0a-a65f-0252653494e3",
   "metadata": {},
   "source": [
    "### Other metrics (recall, precision, balanced accuracy, F-score, gmean...)"
   ]
  },
  {
   "cell_type": "code",
   "execution_count": null,
   "id": "c1f54ad2-4b6c-4ad1-ad3a-bd5e46cb1b05",
   "metadata": {},
   "outputs": [],
   "source": []
  },
  {
   "cell_type": "markdown",
   "id": "0b3fff38-0b71-47a0-a8bc-37e30142fd37",
   "metadata": {},
   "source": [
    "### ROC Curve ?"
   ]
  },
  {
   "cell_type": "code",
   "execution_count": null,
   "id": "f3b19c3e-fc73-41bd-93ff-cb9b1ccbead6",
   "metadata": {},
   "outputs": [],
   "source": []
  },
  {
   "cell_type": "markdown",
   "id": "fcc69987-e55d-40c9-889b-f32e6c13a925",
   "metadata": {},
   "source": [
    "# Part 2 : Continuous decoding\n",
    "\n",
    "In this part we will be interested in decoding precise hand movements of a monkey from ECOG data and in order to do so we will procede just as in the Part 1 with\n",
    "- Pre-processing - where we will see artefact removal for example\n",
    "- Feature extraction - by extracting time-frequency features on every electrodes using short term fourier transfrom\n",
    "- Feature reduction using PCA\n",
    "\n",
    "After this first part we will focus on classification paradigms with\n",
    "- Cross validation in order to ensure the robustness of our testing procedure\n",
    "- Regression using a linear model \n",
    "\n",
    "Finally we will evaluate the model performances using mean square error or correlation."
   ]
  },
  {
   "cell_type": "markdown",
   "id": "143e7420-3f17-41ae-bd92-91f7035a4572",
   "metadata": {},
   "source": [
    "## 1.1 Data pre-processing\n",
    "\n",
    "### Artefact removal "
   ]
  },
  {
   "cell_type": "code",
   "execution_count": null,
   "id": "359f4889-ba4d-4321-97f8-b8824f64ed85",
   "metadata": {},
   "outputs": [],
   "source": []
  },
  {
   "cell_type": "markdown",
   "id": "8717fc4c-bf50-4cf2-9dab-37ff6c56110a",
   "metadata": {},
   "source": [
    "### Feature extraction"
   ]
  },
  {
   "cell_type": "code",
   "execution_count": null,
   "id": "423525a4-830e-4898-8c1e-665a60499152",
   "metadata": {},
   "outputs": [],
   "source": []
  },
  {
   "cell_type": "markdown",
   "id": "f771dec8-fc0b-4d78-867d-02cf3f1284b0",
   "metadata": {},
   "source": [
    "### Feature selection and dimensionality reduction"
   ]
  },
  {
   "cell_type": "code",
   "execution_count": null,
   "id": "7d2f484b-2188-4625-9506-cb9149cd6a0a",
   "metadata": {},
   "outputs": [],
   "source": []
  },
  {
   "cell_type": "markdown",
   "id": "6c16ed99-4665-4f66-8f26-a09270a7188a",
   "metadata": {},
   "source": [
    "## 1.2 Classification\n",
    "\n",
    "### Train-test and cross-validation "
   ]
  },
  {
   "cell_type": "code",
   "execution_count": null,
   "id": "c4e09304-78ea-420f-88d7-44a8830979a3",
   "metadata": {},
   "outputs": [],
   "source": []
  },
  {
   "cell_type": "markdown",
   "id": "11ed91d6-8d43-42a6-9ce1-aef0c9eed70b",
   "metadata": {},
   "source": [
    "### Get the predicted labels"
   ]
  },
  {
   "cell_type": "code",
   "execution_count": null,
   "id": "83f22087-5062-47ae-8589-92062d9c7e97",
   "metadata": {},
   "outputs": [],
   "source": []
  },
  {
   "cell_type": "markdown",
   "id": "4e90c6e1-b41b-4dbf-a370-a502e48f60d4",
   "metadata": {},
   "source": [
    "### Using the validation set"
   ]
  },
  {
   "cell_type": "code",
   "execution_count": null,
   "id": "1afea6d4-aa05-4973-b0a6-abd01cd22135",
   "metadata": {},
   "outputs": [],
   "source": []
  },
  {
   "cell_type": "markdown",
   "id": "de3f7dc8-d6c4-4757-b811-ad1512899757",
   "metadata": {},
   "source": [
    "## 1.3 Metrics for continuous decoding\n",
    "\n",
    "### RMSE"
   ]
  },
  {
   "cell_type": "code",
   "execution_count": null,
   "id": "44a91e95-353c-4cb3-bc05-a312473dc5c5",
   "metadata": {},
   "outputs": [],
   "source": []
  },
  {
   "cell_type": "markdown",
   "id": "67b4de8c-b505-41a1-b848-7bc64f21fb92",
   "metadata": {},
   "source": [
    "### Correlation"
   ]
  },
  {
   "cell_type": "code",
   "execution_count": null,
   "id": "2e670ddf-85ac-4824-9422-71f6c6fcf77a",
   "metadata": {},
   "outputs": [],
   "source": []
  }
 ],
 "metadata": {
  "kernelspec": {
   "display_name": "Python (tp-decoding)",
   "language": "python",
   "name": ".venv"
  },
  "language_info": {
   "codemirror_mode": {
    "name": "ipython",
    "version": 3
   },
   "file_extension": ".py",
   "mimetype": "text/x-python",
   "name": "python",
   "nbconvert_exporter": "python",
   "pygments_lexer": "ipython3",
   "version": "3.12.2"
  }
 },
 "nbformat": 4,
 "nbformat_minor": 5
}
