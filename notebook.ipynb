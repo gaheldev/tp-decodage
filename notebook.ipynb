{
 "cells": [
  {
   "cell_type": "code",
   "execution_count": 1,
   "id": "61f37b59-7c69-4b42-8bbb-6dfd63c08aa6",
   "metadata": {},
   "outputs": [
    {
     "name": "stdout",
     "output_type": "stream",
     "text": [
      "Hello World\n"
     ]
    }
   ],
   "source": [
    "# Shift + Enter to run the current cell\n",
    "print('Hello World')"
   ]
  },
  {
   "cell_type": "code",
   "execution_count": 2,
   "id": "ca9bbf9f-fda4-4c84-9fc0-c132da7ec15f",
   "metadata": {},
   "outputs": [],
   "source": [
    "# Import packages\n",
    "\n",
    "import numpy as np # library providing efficient array manipulation\n",
    "import sklearn # machine learning tools\n",
    "import matplotlib.pyplot as plt # matlab-like plot library"
   ]
  },
  {
   "cell_type": "markdown",
   "id": "15fd6bb4-8a21-4aef-815b-0a124fb1dd17",
   "metadata": {},
   "source": [
    "# This is an example Marakdown cell\n",
    "This is nice to write down instructions and format text with title, **bold** and _italic_\n",
    "\n",
    "You can change the cell type in the top bar menu"
   ]
  },
  {
   "cell_type": "code",
   "execution_count": 3,
   "id": "15d61b21-c80d-495c-8a74-3225532881fe",
   "metadata": {},
   "outputs": [],
   "source": [
    "from sklearn.model_selection import train_test_split"
   ]
  },
  {
   "cell_type": "code",
   "execution_count": 4,
   "id": "8ad46d74-7f8a-4eff-bcd5-42131259cf11",
   "metadata": {},
   "outputs": [],
   "source": [
    "from sklearn.metrics import confusion_matrix, ConfusionMatrixDisplay"
   ]
  },
  {
   "cell_type": "code",
   "execution_count": null,
   "id": "1ce346e4-f025-4fae-a00d-119a05cb2db4",
   "metadata": {},
   "outputs": [],
   "source": []
  },
  {
   "cell_type": "code",
   "execution_count": null,
   "id": "a9c2916c-40f5-45d0-a1f0-524ea6f5a5b8",
   "metadata": {},
   "outputs": [],
   "source": []
  }
 ],
 "metadata": {
  "kernelspec": {
   "display_name": "Python (tp-decoding)",
   "language": "python",
   "name": ".venv"
  },
  "language_info": {
   "codemirror_mode": {
    "name": "ipython",
    "version": 3
   },
   "file_extension": ".py",
   "mimetype": "text/x-python",
   "name": "python",
   "nbconvert_exporter": "python",
   "pygments_lexer": "ipython3",
   "version": "3.10.12"
  }
 },
 "nbformat": 4,
 "nbformat_minor": 5
}
